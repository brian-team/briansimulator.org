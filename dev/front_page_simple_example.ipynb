{
 "cells": [
  {
   "cell_type": "code",
   "execution_count": null,
   "metadata": {},
   "outputs": [],
   "source": [
    "%matplotlib inline\n",
    "from brian2 import *\n",
    "prefs.codegen.target = 'numpy'\n",
    "BrianLogger.suppress_hierarchy('brian2')"
   ]
  },
  {
   "cell_type": "code",
   "execution_count": null,
   "metadata": {},
   "outputs": [],
   "source": [
    "from brian2 import *\n",
    "neuron_model_equations = '''\n",
    "dV/dt = -(V-(-49*mV))/(10*ms) : volt\n",
    "'''\n",
    "G = NeuronGroup(1, neuron_model_equations,\n",
    "      threshold='V>-50*mV', reset='V=-60*mV')\n",
    "G.V = -60*mV\n",
    "M = StateMonitor(G, 'V', record=True)\n",
    "run(200*ms)\n",
    "plot(M.t/ms, M.V[0]/mV);"
   ]
  },
  {
   "cell_type": "code",
   "execution_count": null,
   "metadata": {},
   "outputs": [],
   "source": [
    "from brian2 import *\n",
    "G = PoissonGroup(100, rates=50*Hz)\n",
    "M = SpikeMonitor(G)\n",
    "run(100*ms)\n",
    "plot(M.t/ms, M.i, '.k');"
   ]
  },
  {
   "cell_type": "markdown",
   "metadata": {},
   "source": [
    "$\n",
    "\\begin{eqnarray*}\n",
    "C\\frac{\\mathrm{d}V}{\\mathrm{d}t} &=& g_L(V_\\mathrm{rest}-V)+I_\\mathrm{stim}\\\\\n",
    "V(t) &>& V_\\mathrm{threshold} \\;\\; \\rightarrow \\;\\; \\mbox{emit spike and } V(t) = V_\\mathrm{reset} \\\\\n",
    "\\end{eqnarray*}\n",
    "$"
   ]
  },
  {
   "cell_type": "code",
   "execution_count": null,
   "metadata": {},
   "outputs": [],
   "source": [
    "eqs = 'dV/dt = (g_L*(V_rest - V) + I_stim)/C : volt'\n",
    "neurons = NeuronGroup(N_neurons, eqs,\n",
    "                      threshold='V>V_threshold', reset='V=V_reset')"
   ]
  },
  {
   "cell_type": "code",
   "execution_count": null,
   "metadata": {},
   "outputs": [],
   "source": [
    ">>> Rm = 1*Mohm\n",
    ">>> I = 50*nA\n",
    ">>> I*10000\n",
    "0.5 * mamp\n",
    ">>> Rm * I\n",
    "50. * mvolt\n",
    ">>> Rm + I\n",
    "[...]\n",
    "Cannot calculate 1. Mohm + 50. nA, units do not match (units are ohm and A)."
   ]
  },
  {
   "cell_type": "code",
   "execution_count": null,
   "metadata": {},
   "outputs": [],
   "source": [
    "(50*nA)*(1*Mohm)"
   ]
  },
  {
   "cell_type": "code",
   "execution_count": null,
   "metadata": {},
   "outputs": [],
   "source": [
    "(50*nA)+(1*Mohm)"
   ]
  }
 ],
 "metadata": {
  "hide_input": false,
  "kernelspec": {
   "display_name": "Python 2",
   "language": "python",
   "name": "python2"
  },
  "language_info": {
   "codemirror_mode": {
    "name": "ipython",
    "version": 2
   },
   "file_extension": ".py",
   "mimetype": "text/x-python",
   "name": "python",
   "nbconvert_exporter": "python",
   "pygments_lexer": "ipython2",
   "version": "2.7.15"
  }
 },
 "nbformat": 4,
 "nbformat_minor": 4
}
